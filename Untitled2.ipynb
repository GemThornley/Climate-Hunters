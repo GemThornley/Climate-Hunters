{
  "nbformat": 4,
  "nbformat_minor": 0,
  "metadata": {
    "colab": {
      "name": "Untitled2.ipynb",
      "provenance": [],
      "include_colab_link": true
    },
    "kernelspec": {
      "name": "python3",
      "display_name": "Python 3"
    },
    "language_info": {
      "name": "python"
    }
  },
  "cells": [
    {
      "cell_type": "markdown",
      "metadata": {
        "id": "view-in-github",
        "colab_type": "text"
      },
      "source": [
        "<a href=\"https://colab.research.google.com/github/GemThornley/Climate-Hunters/blob/main/Untitled2.ipynb\" target=\"_parent\"><img src=\"https://colab.research.google.com/assets/colab-badge.svg\" alt=\"Open In Colab\"/></a>"
      ]
    },
    {
      "cell_type": "code",
      "source": [
        "#!/usr/bin/env python3\n",
        "\n",
        "import plotly.graph_objects as go\n",
        "import numpy as np\n",
        "!pip install chart_studio\n",
        "import chart_studio\n",
        "\n",
        "# data, copied rom CSV file \n",
        "labels = [\"sustainable\",\"carbon\",\"climate change\",\"emissions\",\"nuclear power\",\"electricity\",\"fuels\",\"renewable energy\",\"fossil fuels\",\"pollution\",\"environmental protection\",\"fracking\",\"conservation\",\"species\",\"biodiversity\",\"sustainability\",\"climate crisis\",\"greenhouse gas\",\"atmosphere\",\"recycling\",\"air pollution\",\"ecological\",\"ecology\",\"extinction\",\"gas emission\",\"global warming\",\"pollute\"]\n",
        "widths = np.array([0.0002329765,0.0002245149,0.0001998367,0.0001403928,0.0000958125,0.0000811746,0.0000722332,0.0000463769,0.0000455159,0.0000402801,0.0000387335,0.0000342978,0.0000287136,0.0000275692,0.0000258644,0.0000230498,0.0000229827,0.0000193402,0.0000189351,0.0000146993,0.0000141374,0.0000127439,0.0000118423,0.0000115949,0.0000112176,0.0000101084,0.0000096781,0.0000084957,0.0000082690])\n",
        "data = {\n",
        "\t\"Conservative\": [0.0762656382,0.0356504295,0.0306498681,0.0410515229,0.0097786292,0.1239520760,0.1672977279,0.0441616001,0.0295491323,0.0949529581,0.0105345424,0.1538181461,0.0431809382,0.0142605985,0.2524512489,0.1136988095,0.0000000000,0.0857049353,0.0009711093,0.0427706122,0.1724312465,0.1669634780,0.0526451619,0.0373057684,0.0316915446,0.0322237444,0.0328420978,0.0714246308,0.0160955345],\n",
        "\t\"LiberalDemocrat\": [0.1357284303,0.0933587756,0.0896293783,0.0943962073,0.0211136568,0.2091907674,0.1765186191,0.0643153506,0.0802929496,0.1834757382,0.0234451798,0.2202139627,0.0527110149,0.0257087724,0.2940148742,0.1457401775,0.0626423573,0.2042338368,0.0124772109,0.1049750294,0.1587592422,0.3476043131,0.1059854115,0.0420253824,0.0414645178,0.0409015521,0.0793370963,0.1755435334,0.1669637227],\n",
        "\t\"Green\": [0.7007195153,0.8227448777,0.8244175640,0.8072158069,0.9587479020,0.5227659725,0.4699815451,0.8396563700,0.8445719368,0.6073154849,0.9537924571,0.4512369140,0.8519562742,0.9416449007,0.2123236985,0.6281156345,0.8906171340,0.5937114963,0.9755352560,0.7811622779,0.4943871539,0.2742241219,0.7588280606,0.8611353982,0.8901019939,0.8889922493,0.8253471442,0.6463977852,0.6641205307],\n",
        "\t\"Labour\": [0.0872864162,0.0482459171,0.0553031896,0.0573364628,0.0103598120,0.1440911841,0.1862021079,0.0518666793,0.0455859814,0.1142558188,0.0122278207,0.1747309772,0.0521517728,0.0183857284,0.2412101785,0.1124453785,0.0467405087,0.1163497317,0.0110164237,0.0710920805,0.1744223574,0.2112080870,0.0825413660,0.0595334510,0.0367419437,0.0378824542,0.0624736617,0.1066340507,0.1528202121]\n",
        "}\n",
        "\n",
        "# Colours associated with each party\n",
        "colorlist = {\"Conservative\":\"#0087DC\", \"Labour\": \"#E4003B\", \"LiberalDemocrat\" : \"#FAA61A\", \"Green\" : \"#6AB023\"}\n",
        "\n",
        "\n",
        "# create figure \n",
        "fig = go.Figure()\n",
        "for key in data:\n",
        "\tpercentage = (widths*data[key] * 100)\n",
        "\tlabel = labels\n",
        "\tcolour = colorlist[key]\n",
        "\tfig.add_trace(go.Bar(\n",
        "\t\tname=key,\n",
        "\t\ty=data[key],\n",
        "\t\tx=np.cumsum(widths)-widths,\n",
        "\t\twidth=widths,\n",
        "\t\toffset=0,\n",
        "\t\tcustomdata=np.transpose([labels,widths*data[key]]),\n",
        "\t\tmarker = {\"color\" : colour},\n",
        "\t\ttextangle=90,\n",
        "\t\ttextfont_color=\"white\"\n",
        "))\n",
        "\n",
        "# x-axis labels\n",
        "fig.update_xaxes(\n",
        "\ttickvals=np.cumsum(widths)-widths/2,\n",
        "\tticktext= [\"%s\" % l for l, w in zip(labels, widths)]\n",
        ")\n",
        "\n",
        "fig.update_xaxes(range=[0, 0.00140816633], tickfont_size=5)\n",
        "fig.update_yaxes(range=[0,1])\n",
        "\n",
        "fig.update_layout(\n",
        "\ttitle_text=\"Climate Change Vocabulary Used by Party as a percentage of speech\",\n",
        "\tbarmode=\"stack\",\n",
        "  ),\n",
        "\n",
        "username = 'GemmaThornley' \n",
        "api_key = 'tkCXLQ3xImGn7POF3DZ7'\n",
        "chart_studio.tools.set_credentials_file(username=username, api_key=api_key)\n",
        "import chart_studio.plotly as py\n",
        "py.plot(fig, filename = 'Second Graph', auto_open=True)\n",
        "\n",
        "fig.show()"
      ],
      "metadata": {
        "id": "0HVDUEt69Ha-",
        "colab": {
          "base_uri": "https://localhost:8080/",
          "height": 788
        },
        "outputId": "7cc7286c-6f69-45b5-84c3-bc1eccefd0ca"
      },
      "execution_count": 46,
      "outputs": [
        {
          "output_type": "stream",
          "name": "stdout",
          "text": [
            "Requirement already satisfied: chart_studio in /usr/local/lib/python3.7/dist-packages (1.1.0)\n",
            "Requirement already satisfied: six in /usr/local/lib/python3.7/dist-packages (from chart_studio) (1.15.0)\n",
            "Requirement already satisfied: retrying>=1.3.3 in /usr/local/lib/python3.7/dist-packages (from chart_studio) (1.3.3)\n",
            "Requirement already satisfied: requests in /usr/local/lib/python3.7/dist-packages (from chart_studio) (2.23.0)\n",
            "Requirement already satisfied: plotly in /usr/local/lib/python3.7/dist-packages (from chart_studio) (4.4.1)\n",
            "Requirement already satisfied: chardet<4,>=3.0.2 in /usr/local/lib/python3.7/dist-packages (from requests->chart_studio) (3.0.4)\n",
            "Requirement already satisfied: urllib3!=1.25.0,!=1.25.1,<1.26,>=1.21.1 in /usr/local/lib/python3.7/dist-packages (from requests->chart_studio) (1.24.3)\n",
            "Requirement already satisfied: certifi>=2017.4.17 in /usr/local/lib/python3.7/dist-packages (from requests->chart_studio) (2021.10.8)\n",
            "Requirement already satisfied: idna<3,>=2.5 in /usr/local/lib/python3.7/dist-packages (from requests->chart_studio) (2.10)\n"
          ]
        },
        {
          "output_type": "stream",
          "name": "stderr",
          "text": [
            "/usr/local/lib/python3.7/dist-packages/numpy/core/_asarray.py:83: VisibleDeprecationWarning:\n",
            "\n",
            "Creating an ndarray from ragged nested sequences (which is a list-or-tuple of lists-or-tuples-or ndarrays with different lengths or shapes) is deprecated. If you meant to do this, you must specify 'dtype=object' when creating the ndarray\n",
            "\n"
          ]
        },
        {
          "output_type": "display_data",
          "data": {
            "text/html": [
              "<html>\n",
              "<head><meta charset=\"utf-8\" /></head>\n",
              "<body>\n",
              "    <div>\n",
              "            <script src=\"https://cdnjs.cloudflare.com/ajax/libs/mathjax/2.7.5/MathJax.js?config=TeX-AMS-MML_SVG\"></script><script type=\"text/javascript\">if (window.MathJax) {MathJax.Hub.Config({SVG: {font: \"STIX-Web\"}});}</script>\n",
              "                <script type=\"text/javascript\">window.PlotlyConfig = {MathJaxConfig: 'local'};</script>\n",
              "        <script src=\"https://cdn.plot.ly/plotly-latest.min.js\"></script>    \n",
              "            <div id=\"8631fb21-505e-4bd6-8691-b1e3120e5353\" class=\"plotly-graph-div\" style=\"height:525px; width:100%;\"></div>\n",
              "            <script type=\"text/javascript\">\n",
              "                \n",
              "                    window.PLOTLYENV=window.PLOTLYENV || {};\n",
              "                    \n",
              "                if (document.getElementById(\"8631fb21-505e-4bd6-8691-b1e3120e5353\")) {\n",
              "                    Plotly.newPlot(\n",
              "                        '8631fb21-505e-4bd6-8691-b1e3120e5353',\n",
              "                        [{\"customdata\": [[\"sustainable\", \"carbon\", \"climate change\", \"emissions\", \"nuclear power\", \"electricity\", \"fuels\", \"renewable energy\", \"fossil fuels\", \"pollution\", \"environmental protection\", \"fracking\", \"conservation\", \"species\", \"biodiversity\", \"sustainability\", \"climate crisis\", \"greenhouse gas\", \"atmosphere\", \"recycling\", \"air pollution\", \"ecological\", \"ecology\", \"extinction\", \"gas emission\", \"global warming\", \"pollute\"], [1.77681014581023e-05, 8.004052614149548e-06, 6.12496849653927e-06, 5.76333824419512e-06, 9.36914910225e-07, 1.00617601884696e-05, 1.208445023894628e-05, 2.0480781116776897e-06, 1.34495535085357e-06, 3.82471464756381e-06, 4.0803969805039995e-07, 5.27562401130858e-06, 1.2398801870995198e-06, 3.931532921662e-07, 6.529500082049159e-06, 2.6207348192131e-06, 0.0, 1.6575505896890603e-06, 1.8388051706430003e-08, 6.2869805991146e-07, 2.4377295042690997e-06, 2.1277658672842e-06, 6.2343980076837e-07, 4.3255665402116e-07, 3.5550307070496005e-07, 3.2573049789295997e-07, 3.1784910671817996e-07, 6.0680223588756e-07, 1.3309397478050002e-07]], \"marker\": {\"color\": \"#0087DC\"}, \"name\": \"Conservative\", \"offset\": 0, \"textangle\": 90, \"textfont\": {\"color\": \"white\"}, \"type\": \"bar\", \"width\": [0.0002329765, 0.0002245149, 0.0001998367, 0.0001403928, 9.58125e-05, 8.11746e-05, 7.22332e-05, 4.63769e-05, 4.55159e-05, 4.02801e-05, 3.87335e-05, 3.42978e-05, 2.87136e-05, 2.75692e-05, 2.58644e-05, 2.30498e-05, 2.29827e-05, 1.93402e-05, 1.89351e-05, 1.46993e-05, 1.41374e-05, 1.27439e-05, 1.18423e-05, 1.15949e-05, 1.12176e-05, 1.01084e-05, 9.6781e-06, 8.4957e-06, 8.269e-06], \"x\": [0.0, 0.0002329765, 0.0004574914, 0.0006573281, 0.0007977209, 0.0008935334, 0.0009747080000000001, 0.0010469412, 0.0010933181, 0.001138834, 0.0011791141, 0.0012178476, 0.0012521454, 0.001280859, 0.0013084282, 0.0013342926, 0.0013573424, 0.0013803251, 0.0013996653, 0.0014186003999999998, 0.0014332996999999999, 0.0014474370999999998, 0.0014601809999999998, 0.0014720233, 0.0014836182, 0.0014948358, 0.0015049441999999999, 0.0015146222999999999, 0.001523118], \"y\": [0.0762656382, 0.0356504295, 0.0306498681, 0.0410515229, 0.0097786292, 0.123952076, 0.1672977279, 0.0441616001, 0.0295491323, 0.0949529581, 0.0105345424, 0.1538181461, 0.0431809382, 0.0142605985, 0.2524512489, 0.1136988095, 0.0, 0.0857049353, 0.0009711093, 0.0427706122, 0.1724312465, 0.166963478, 0.0526451619, 0.0373057684, 0.0316915446, 0.0322237444, 0.0328420978, 0.0714246308, 0.0160955345]}, {\"customdata\": [[\"sustainable\", \"carbon\", \"climate change\", \"emissions\", \"nuclear power\", \"electricity\", \"fuels\", \"renewable energy\", \"fossil fuels\", \"pollution\", \"environmental protection\", \"fracking\", \"conservation\", \"species\", \"biodiversity\", \"sustainability\", \"climate crisis\", \"greenhouse gas\", \"atmosphere\", \"recycling\", \"air pollution\", \"ecological\", \"ecology\", \"extinction\", \"gas emission\", \"global warming\", \"pollute\"], [3.1621534641787955e-05, 2.096043616795644e-05, 1.7911239182523612e-05, 1.3252547852227442e-05, 2.02295224215e-06, 1.698097686738804e-05, 1.275050471717412e-05, 2.98274658324114e-06, 3.65460586469864e-06, 7.390421082269819e-06, 9.081138717832999e-07, 7.55285444989206e-06, 1.51352299743264e-06, 7.0877028805008e-07, 7.60451831225848e-06, 3.3592819433395005e-06, 1.4396905051187101e-06, 3.949923250479361e-06, 2.3625723611259003e-07, 1.54305944965942e-06, 2.24444291067828e-06, 4.42983460571509e-06, 1.25511103860645e-06, 4.8728010638976e-07, 4.651323748732801e-07, 4.1344924924764e-07, 7.6783235170103e-07, 1.4913651967063801e-06, 1.3806230230063002e-06]], \"marker\": {\"color\": \"#FAA61A\"}, \"name\": \"LiberalDemocrat\", \"offset\": 0, \"textangle\": 90, \"textfont\": {\"color\": \"white\"}, \"type\": \"bar\", \"width\": [0.0002329765, 0.0002245149, 0.0001998367, 0.0001403928, 9.58125e-05, 8.11746e-05, 7.22332e-05, 4.63769e-05, 4.55159e-05, 4.02801e-05, 3.87335e-05, 3.42978e-05, 2.87136e-05, 2.75692e-05, 2.58644e-05, 2.30498e-05, 2.29827e-05, 1.93402e-05, 1.89351e-05, 1.46993e-05, 1.41374e-05, 1.27439e-05, 1.18423e-05, 1.15949e-05, 1.12176e-05, 1.01084e-05, 9.6781e-06, 8.4957e-06, 8.269e-06], \"x\": [0.0, 0.0002329765, 0.0004574914, 0.0006573281, 0.0007977209, 0.0008935334, 0.0009747080000000001, 0.0010469412, 0.0010933181, 0.001138834, 0.0011791141, 0.0012178476, 0.0012521454, 0.001280859, 0.0013084282, 0.0013342926, 0.0013573424, 0.0013803251, 0.0013996653, 0.0014186003999999998, 0.0014332996999999999, 0.0014474370999999998, 0.0014601809999999998, 0.0014720233, 0.0014836182, 0.0014948358, 0.0015049441999999999, 0.0015146222999999999, 0.001523118], \"y\": [0.1357284303, 0.0933587756, 0.0896293783, 0.0943962073, 0.0211136568, 0.2091907674, 0.1765186191, 0.0643153506, 0.0802929496, 0.1834757382, 0.0234451798, 0.2202139627, 0.0527110149, 0.0257087724, 0.2940148742, 0.1457401775, 0.0626423573, 0.2042338368, 0.0124772109, 0.1049750294, 0.1587592422, 0.3476043131, 0.1059854115, 0.0420253824, 0.0414645178, 0.0409015521, 0.0793370963, 0.1755435334, 0.1669637227]}, {\"customdata\": [[\"sustainable\", \"carbon\", \"climate change\", \"emissions\", \"nuclear power\", \"electricity\", \"fuels\", \"renewable energy\", \"fossil fuels\", \"pollution\", \"environmental protection\", \"fracking\", \"conservation\", \"species\", \"biodiversity\", \"sustainability\", \"climate crisis\", \"greenhouse gas\", \"atmosphere\", \"recycling\", \"air pollution\", \"ecological\", \"ecology\", \"extinction\", \"gas emission\", \"global warming\", \"pollute\"], [0.00016325118015629044, 0.00018471848394232773, 0.0001647488854117988, 0.00011332728733495033, 9.186003336037501e-05, 4.24353187112985e-05, 3.394827094351732e-05, 3.8940659505853e-05, 3.844145181819512e-05, 2.446272846332049e-05, 3.694372013708285e-05, 1.54764334289892e-05, 2.4462731674869117e-05, 2.5960396596378438e-05, 5.4916250674834e-06, 1.44779397520981e-05, 2.04687864055818e-05, 1.148249908074126e-05, 1.8471857625885602e-05, 1.148253867153547e-05, 6.98934894954586e-06, 3.49468478708141e-06, 8.98626954204338e-06, 9.984778828589179e-06, 9.984808126772641e-06, 8.98628925282412e-06, 7.98779219628202e-06, 5.4916016637236404e-06, 5.4916126683583e-06]], \"marker\": {\"color\": \"#6AB023\"}, \"name\": \"Green\", \"offset\": 0, \"textangle\": 90, \"textfont\": {\"color\": \"white\"}, \"type\": \"bar\", \"width\": [0.0002329765, 0.0002245149, 0.0001998367, 0.0001403928, 9.58125e-05, 8.11746e-05, 7.22332e-05, 4.63769e-05, 4.55159e-05, 4.02801e-05, 3.87335e-05, 3.42978e-05, 2.87136e-05, 2.75692e-05, 2.58644e-05, 2.30498e-05, 2.29827e-05, 1.93402e-05, 1.89351e-05, 1.46993e-05, 1.41374e-05, 1.27439e-05, 1.18423e-05, 1.15949e-05, 1.12176e-05, 1.01084e-05, 9.6781e-06, 8.4957e-06, 8.269e-06], \"x\": [0.0, 0.0002329765, 0.0004574914, 0.0006573281, 0.0007977209, 0.0008935334, 0.0009747080000000001, 0.0010469412, 0.0010933181, 0.001138834, 0.0011791141, 0.0012178476, 0.0012521454, 0.001280859, 0.0013084282, 0.0013342926, 0.0013573424, 0.0013803251, 0.0013996653, 0.0014186003999999998, 0.0014332996999999999, 0.0014474370999999998, 0.0014601809999999998, 0.0014720233, 0.0014836182, 0.0014948358, 0.0015049441999999999, 0.0015146222999999999, 0.001523118], \"y\": [0.7007195153, 0.8227448777, 0.824417564, 0.8072158069, 0.958747902, 0.5227659725, 0.4699815451, 0.83965637, 0.8445719368, 0.6073154849, 0.9537924571, 0.451236914, 0.8519562742, 0.9416449007, 0.2123236985, 0.6281156345, 0.890617134, 0.5937114963, 0.975535256, 0.7811622779, 0.4943871539, 0.2742241219, 0.7588280606, 0.8611353982, 0.8901019939, 0.8889922493, 0.8253471442, 0.6463977852, 0.6641205307]}, {\"customdata\": [[\"sustainable\", \"carbon\", \"climate change\", \"emissions\", \"nuclear power\", \"electricity\", \"fuels\", \"renewable energy\", \"fossil fuels\", \"pollution\", \"environmental protection\", \"fracking\", \"conservation\", \"species\", \"biodiversity\", \"sustainability\", \"climate crisis\", \"greenhouse gas\", \"atmosphere\", \"recycling\", \"air pollution\", \"ecological\", \"ecology\", \"extinction\", \"gas emission\", \"global warming\", \"pollute\"], [2.03356837438193e-05, 1.0831927253114789e-05, 1.1051606909138319e-05, 8.04962655458784e-06, 9.9259948725e-07, 1.169654423284386e-05, 1.344997410036228e-05, 2.40541579922817e-06, 2.07488697080426e-06, 4.60223580684588e-06, 4.7362629308344994e-07, 5.9928881098101605e-06, 1.49746514347008e-06, 5.0687982340528e-07, 6.2387565407954e-06, 2.5918434853493e-06, 1.0742230892994901e-06, 2.2502270810243403e-06, 2.0859708440187e-07, 1.04500381889365e-06, 2.46587863550676e-06, 2.6916147399192997e-06, 9.774796185818e-07, 6.902844109999e-07, 4.1215642764912006e-07, 3.8293100003527996e-07, 6.0462634529877e-07, 9.0593090453199e-07, 1.2636703338549e-06]], \"marker\": {\"color\": \"#E4003B\"}, \"name\": \"Labour\", \"offset\": 0, \"textangle\": 90, \"textfont\": {\"color\": \"white\"}, \"type\": \"bar\", \"width\": [0.0002329765, 0.0002245149, 0.0001998367, 0.0001403928, 9.58125e-05, 8.11746e-05, 7.22332e-05, 4.63769e-05, 4.55159e-05, 4.02801e-05, 3.87335e-05, 3.42978e-05, 2.87136e-05, 2.75692e-05, 2.58644e-05, 2.30498e-05, 2.29827e-05, 1.93402e-05, 1.89351e-05, 1.46993e-05, 1.41374e-05, 1.27439e-05, 1.18423e-05, 1.15949e-05, 1.12176e-05, 1.01084e-05, 9.6781e-06, 8.4957e-06, 8.269e-06], \"x\": [0.0, 0.0002329765, 0.0004574914, 0.0006573281, 0.0007977209, 0.0008935334, 0.0009747080000000001, 0.0010469412, 0.0010933181, 0.001138834, 0.0011791141, 0.0012178476, 0.0012521454, 0.001280859, 0.0013084282, 0.0013342926, 0.0013573424, 0.0013803251, 0.0013996653, 0.0014186003999999998, 0.0014332996999999999, 0.0014474370999999998, 0.0014601809999999998, 0.0014720233, 0.0014836182, 0.0014948358, 0.0015049441999999999, 0.0015146222999999999, 0.001523118], \"y\": [0.0872864162, 0.0482459171, 0.0553031896, 0.0573364628, 0.010359812, 0.1440911841, 0.1862021079, 0.0518666793, 0.0455859814, 0.1142558188, 0.0122278207, 0.1747309772, 0.0521517728, 0.0183857284, 0.2412101785, 0.1124453785, 0.0467405087, 0.1163497317, 0.0110164237, 0.0710920805, 0.1744223574, 0.211208087, 0.082541366, 0.059533451, 0.0367419437, 0.0378824542, 0.0624736617, 0.1066340507, 0.1528202121]}],\n",
              "                        {\"barmode\": \"stack\", \"template\": {\"data\": {\"bar\": [{\"error_x\": {\"color\": \"#2a3f5f\"}, \"error_y\": {\"color\": \"#2a3f5f\"}, \"marker\": {\"line\": {\"color\": \"#E5ECF6\", \"width\": 0.5}}, \"type\": \"bar\"}], \"barpolar\": [{\"marker\": {\"line\": {\"color\": \"#E5ECF6\", \"width\": 0.5}}, \"type\": \"barpolar\"}], \"carpet\": [{\"aaxis\": {\"endlinecolor\": \"#2a3f5f\", \"gridcolor\": \"white\", \"linecolor\": \"white\", \"minorgridcolor\": \"white\", \"startlinecolor\": \"#2a3f5f\"}, \"baxis\": {\"endlinecolor\": \"#2a3f5f\", \"gridcolor\": \"white\", \"linecolor\": \"white\", \"minorgridcolor\": \"white\", \"startlinecolor\": \"#2a3f5f\"}, \"type\": \"carpet\"}], \"choropleth\": [{\"colorbar\": {\"outlinewidth\": 0, \"ticks\": \"\"}, \"type\": \"choropleth\"}], \"contour\": [{\"colorbar\": {\"outlinewidth\": 0, \"ticks\": \"\"}, \"colorscale\": [[0.0, \"#0d0887\"], [0.1111111111111111, \"#46039f\"], [0.2222222222222222, \"#7201a8\"], [0.3333333333333333, \"#9c179e\"], [0.4444444444444444, \"#bd3786\"], [0.5555555555555556, \"#d8576b\"], [0.6666666666666666, \"#ed7953\"], [0.7777777777777778, \"#fb9f3a\"], [0.8888888888888888, \"#fdca26\"], [1.0, \"#f0f921\"]], \"type\": \"contour\"}], \"contourcarpet\": [{\"colorbar\": {\"outlinewidth\": 0, \"ticks\": \"\"}, \"type\": \"contourcarpet\"}], \"heatmap\": [{\"colorbar\": {\"outlinewidth\": 0, \"ticks\": \"\"}, \"colorscale\": [[0.0, \"#0d0887\"], [0.1111111111111111, \"#46039f\"], [0.2222222222222222, \"#7201a8\"], [0.3333333333333333, \"#9c179e\"], [0.4444444444444444, \"#bd3786\"], [0.5555555555555556, \"#d8576b\"], [0.6666666666666666, \"#ed7953\"], [0.7777777777777778, \"#fb9f3a\"], [0.8888888888888888, \"#fdca26\"], [1.0, \"#f0f921\"]], \"type\": \"heatmap\"}], \"heatmapgl\": [{\"colorbar\": {\"outlinewidth\": 0, \"ticks\": \"\"}, \"colorscale\": [[0.0, \"#0d0887\"], [0.1111111111111111, \"#46039f\"], [0.2222222222222222, \"#7201a8\"], [0.3333333333333333, \"#9c179e\"], [0.4444444444444444, \"#bd3786\"], [0.5555555555555556, \"#d8576b\"], [0.6666666666666666, \"#ed7953\"], [0.7777777777777778, \"#fb9f3a\"], [0.8888888888888888, \"#fdca26\"], [1.0, \"#f0f921\"]], \"type\": \"heatmapgl\"}], \"histogram\": [{\"marker\": {\"colorbar\": {\"outlinewidth\": 0, \"ticks\": \"\"}}, \"type\": \"histogram\"}], \"histogram2d\": [{\"colorbar\": {\"outlinewidth\": 0, \"ticks\": \"\"}, \"colorscale\": [[0.0, \"#0d0887\"], [0.1111111111111111, \"#46039f\"], [0.2222222222222222, \"#7201a8\"], [0.3333333333333333, \"#9c179e\"], [0.4444444444444444, \"#bd3786\"], [0.5555555555555556, \"#d8576b\"], [0.6666666666666666, \"#ed7953\"], [0.7777777777777778, \"#fb9f3a\"], [0.8888888888888888, \"#fdca26\"], [1.0, \"#f0f921\"]], \"type\": \"histogram2d\"}], \"histogram2dcontour\": [{\"colorbar\": {\"outlinewidth\": 0, \"ticks\": \"\"}, \"colorscale\": [[0.0, \"#0d0887\"], [0.1111111111111111, \"#46039f\"], [0.2222222222222222, \"#7201a8\"], [0.3333333333333333, \"#9c179e\"], [0.4444444444444444, \"#bd3786\"], [0.5555555555555556, \"#d8576b\"], [0.6666666666666666, \"#ed7953\"], [0.7777777777777778, \"#fb9f3a\"], [0.8888888888888888, \"#fdca26\"], [1.0, \"#f0f921\"]], \"type\": \"histogram2dcontour\"}], \"mesh3d\": [{\"colorbar\": {\"outlinewidth\": 0, \"ticks\": \"\"}, \"type\": \"mesh3d\"}], \"parcoords\": [{\"line\": {\"colorbar\": {\"outlinewidth\": 0, \"ticks\": \"\"}}, \"type\": \"parcoords\"}], \"pie\": [{\"automargin\": true, \"type\": \"pie\"}], \"scatter\": [{\"marker\": {\"colorbar\": {\"outlinewidth\": 0, \"ticks\": \"\"}}, \"type\": \"scatter\"}], \"scatter3d\": [{\"line\": {\"colorbar\": {\"outlinewidth\": 0, \"ticks\": \"\"}}, \"marker\": {\"colorbar\": {\"outlinewidth\": 0, \"ticks\": \"\"}}, \"type\": \"scatter3d\"}], \"scattercarpet\": [{\"marker\": {\"colorbar\": {\"outlinewidth\": 0, \"ticks\": \"\"}}, \"type\": \"scattercarpet\"}], \"scattergeo\": [{\"marker\": {\"colorbar\": {\"outlinewidth\": 0, \"ticks\": \"\"}}, \"type\": \"scattergeo\"}], \"scattergl\": [{\"marker\": {\"colorbar\": {\"outlinewidth\": 0, \"ticks\": \"\"}}, \"type\": \"scattergl\"}], \"scattermapbox\": [{\"marker\": {\"colorbar\": {\"outlinewidth\": 0, \"ticks\": \"\"}}, \"type\": \"scattermapbox\"}], \"scatterpolar\": [{\"marker\": {\"colorbar\": {\"outlinewidth\": 0, \"ticks\": \"\"}}, \"type\": \"scatterpolar\"}], \"scatterpolargl\": [{\"marker\": {\"colorbar\": {\"outlinewidth\": 0, \"ticks\": \"\"}}, \"type\": \"scatterpolargl\"}], \"scatterternary\": [{\"marker\": {\"colorbar\": {\"outlinewidth\": 0, \"ticks\": \"\"}}, \"type\": \"scatterternary\"}], \"surface\": [{\"colorbar\": {\"outlinewidth\": 0, \"ticks\": \"\"}, \"colorscale\": [[0.0, \"#0d0887\"], [0.1111111111111111, \"#46039f\"], [0.2222222222222222, \"#7201a8\"], [0.3333333333333333, \"#9c179e\"], [0.4444444444444444, \"#bd3786\"], [0.5555555555555556, \"#d8576b\"], [0.6666666666666666, \"#ed7953\"], [0.7777777777777778, \"#fb9f3a\"], [0.8888888888888888, \"#fdca26\"], [1.0, \"#f0f921\"]], \"type\": \"surface\"}], \"table\": [{\"cells\": {\"fill\": {\"color\": \"#EBF0F8\"}, \"line\": {\"color\": \"white\"}}, \"header\": {\"fill\": {\"color\": \"#C8D4E3\"}, \"line\": {\"color\": \"white\"}}, \"type\": \"table\"}]}, \"layout\": {\"annotationdefaults\": {\"arrowcolor\": \"#2a3f5f\", \"arrowhead\": 0, \"arrowwidth\": 1}, \"coloraxis\": {\"colorbar\": {\"outlinewidth\": 0, \"ticks\": \"\"}}, \"colorscale\": {\"diverging\": [[0, \"#8e0152\"], [0.1, \"#c51b7d\"], [0.2, \"#de77ae\"], [0.3, \"#f1b6da\"], [0.4, \"#fde0ef\"], [0.5, \"#f7f7f7\"], [0.6, \"#e6f5d0\"], [0.7, \"#b8e186\"], [0.8, \"#7fbc41\"], [0.9, \"#4d9221\"], [1, \"#276419\"]], \"sequential\": [[0.0, \"#0d0887\"], [0.1111111111111111, \"#46039f\"], [0.2222222222222222, \"#7201a8\"], [0.3333333333333333, \"#9c179e\"], [0.4444444444444444, \"#bd3786\"], [0.5555555555555556, \"#d8576b\"], [0.6666666666666666, \"#ed7953\"], [0.7777777777777778, \"#fb9f3a\"], [0.8888888888888888, \"#fdca26\"], [1.0, \"#f0f921\"]], \"sequentialminus\": [[0.0, \"#0d0887\"], [0.1111111111111111, \"#46039f\"], [0.2222222222222222, \"#7201a8\"], [0.3333333333333333, \"#9c179e\"], [0.4444444444444444, \"#bd3786\"], [0.5555555555555556, \"#d8576b\"], [0.6666666666666666, \"#ed7953\"], [0.7777777777777778, \"#fb9f3a\"], [0.8888888888888888, \"#fdca26\"], [1.0, \"#f0f921\"]]}, \"colorway\": [\"#636efa\", \"#EF553B\", \"#00cc96\", \"#ab63fa\", \"#FFA15A\", \"#19d3f3\", \"#FF6692\", \"#B6E880\", \"#FF97FF\", \"#FECB52\"], \"font\": {\"color\": \"#2a3f5f\"}, \"geo\": {\"bgcolor\": \"white\", \"lakecolor\": \"white\", \"landcolor\": \"#E5ECF6\", \"showlakes\": true, \"showland\": true, \"subunitcolor\": \"white\"}, \"hoverlabel\": {\"align\": \"left\"}, \"hovermode\": \"closest\", \"mapbox\": {\"style\": \"light\"}, \"paper_bgcolor\": \"white\", \"plot_bgcolor\": \"#E5ECF6\", \"polar\": {\"angularaxis\": {\"gridcolor\": \"white\", \"linecolor\": \"white\", \"ticks\": \"\"}, \"bgcolor\": \"#E5ECF6\", \"radialaxis\": {\"gridcolor\": \"white\", \"linecolor\": \"white\", \"ticks\": \"\"}}, \"scene\": {\"xaxis\": {\"backgroundcolor\": \"#E5ECF6\", \"gridcolor\": \"white\", \"gridwidth\": 2, \"linecolor\": \"white\", \"showbackground\": true, \"ticks\": \"\", \"zerolinecolor\": \"white\"}, \"yaxis\": {\"backgroundcolor\": \"#E5ECF6\", \"gridcolor\": \"white\", \"gridwidth\": 2, \"linecolor\": \"white\", \"showbackground\": true, \"ticks\": \"\", \"zerolinecolor\": \"white\"}, \"zaxis\": {\"backgroundcolor\": \"#E5ECF6\", \"gridcolor\": \"white\", \"gridwidth\": 2, \"linecolor\": \"white\", \"showbackground\": true, \"ticks\": \"\", \"zerolinecolor\": \"white\"}}, \"shapedefaults\": {\"line\": {\"color\": \"#2a3f5f\"}}, \"ternary\": {\"aaxis\": {\"gridcolor\": \"white\", \"linecolor\": \"white\", \"ticks\": \"\"}, \"baxis\": {\"gridcolor\": \"white\", \"linecolor\": \"white\", \"ticks\": \"\"}, \"bgcolor\": \"#E5ECF6\", \"caxis\": {\"gridcolor\": \"white\", \"linecolor\": \"white\", \"ticks\": \"\"}}, \"title\": {\"x\": 0.05}, \"xaxis\": {\"automargin\": true, \"gridcolor\": \"white\", \"linecolor\": \"white\", \"ticks\": \"\", \"title\": {\"standoff\": 15}, \"zerolinecolor\": \"white\", \"zerolinewidth\": 2}, \"yaxis\": {\"automargin\": true, \"gridcolor\": \"white\", \"linecolor\": \"white\", \"ticks\": \"\", \"title\": {\"standoff\": 15}, \"zerolinecolor\": \"white\", \"zerolinewidth\": 2}}}, \"title\": {\"text\": \"Climate Change Vocabulary Used by Party as a percentage of speech\"}, \"xaxis\": {\"range\": [0, 0.00140816633], \"tickfont\": {\"size\": 5}, \"ticktext\": [\"sustainable\", \"carbon\", \"climate change\", \"emissions\", \"nuclear power\", \"electricity\", \"fuels\", \"renewable energy\", \"fossil fuels\", \"pollution\", \"environmental protection\", \"fracking\", \"conservation\", \"species\", \"biodiversity\", \"sustainability\", \"climate crisis\", \"greenhouse gas\", \"atmosphere\", \"recycling\", \"air pollution\", \"ecological\", \"ecology\", \"extinction\", \"gas emission\", \"global warming\", \"pollute\"], \"tickvals\": [0.00011648825, 0.00034523395, 0.0005574097500000001, 0.0007275245, 0.00084562715, 0.0009341207, 0.0010108246, 0.00107012965, 0.00111607605, 0.00115897405, 0.0011984808499999999, 0.0012349965, 0.0012665022000000001, 0.0012946436, 0.0013213603999999999, 0.0013458175, 0.00136883375, 0.0013899951999999998, 0.0014091328499999999, 0.0014259500499999998, 0.0014403683999999997, 0.00145380905, 0.00146610215, 0.00147782075, 0.0014892269999999999, 0.0014998899999999998, 0.0015097832499999999, 0.00151887015, 0.0015272525]}, \"yaxis\": {\"range\": [0, 1]}},\n",
              "                        {\"responsive\": true}\n",
              "                    ).then(function(){\n",
              "                            \n",
              "var gd = document.getElementById('8631fb21-505e-4bd6-8691-b1e3120e5353');\n",
              "var x = new MutationObserver(function (mutations, observer) {{\n",
              "        var display = window.getComputedStyle(gd).display;\n",
              "        if (!display || display === 'none') {{\n",
              "            console.log([gd, 'removed!']);\n",
              "            Plotly.purge(gd);\n",
              "            observer.disconnect();\n",
              "        }}\n",
              "}});\n",
              "\n",
              "// Listen for the removal of the full notebook cells\n",
              "var notebookContainer = gd.closest('#notebook-container');\n",
              "if (notebookContainer) {{\n",
              "    x.observe(notebookContainer, {childList: true});\n",
              "}}\n",
              "\n",
              "// Listen for the clearing of the current output cell\n",
              "var outputEl = gd.closest('.output');\n",
              "if (outputEl) {{\n",
              "    x.observe(outputEl, {childList: true});\n",
              "}}\n",
              "\n",
              "                        })\n",
              "                };\n",
              "                \n",
              "            </script>\n",
              "        </div>\n",
              "</body>\n",
              "</html>"
            ]
          },
          "metadata": {}
        }
      ]
    }
  ]
}